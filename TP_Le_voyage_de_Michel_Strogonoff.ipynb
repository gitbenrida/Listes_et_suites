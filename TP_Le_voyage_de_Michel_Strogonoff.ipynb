{
 "cells": [
  {
   "cell_type": "markdown",
   "id": "potential-lender",
   "metadata": {},
   "source": [
    "# Le voyage de Michel STROGONOFF\n",
    "## Partie A découverte de l'expression de la suite.\n",
    "Michel Strogonoff était veuf, mais il était beau.\n",
    "Pour des raisons obscures, il décida de partir à l'aventure, sans un kopek en poche, à travers les étendues infinies de la Sibérie.\n",
    "\n",
    "Las, à peine avait-il parcouru une verste (*) qu'il rencontra un ermite qui lui dit comme ça : \n",
    "- Michel Strogonoff, donne-moi un rouble, ou tu t'en repentiras.\n",
    "- Mais, mon pauvre ermite, je suis trop pauvre, je ne peux pas te donner un rouble.\n",
    "- Puisque c'est comme ça, répliqua l'ermite, c'est moi qui vais te donner un rouble ! Tiens !\n",
    "Michel Strogonoff était un peu surpris, mais content, et il reprit sa route, avec un rouble dans la poche.\n",
    "\n",
    "Une verste plus loin, nouvel ermite, même tableau :\n",
    "- Michel Strogonoff, donne-moi deux roubles, ou tu t'en repentiras.\n",
    "- Mais, mon pauvre ermite, je suis trop pauvre, je ne peux pas te donner deux roubles.\n",
    "- Puisque c'est comme ça, répliqua l'ermite, c'est moi qui vais te donner deux roubles ! Tiens !\n",
    "Michel Strogonoff était toujours un peu surpris, mais de plus en plus content, et il reprit sa route, avec maintenant trois roubles dans la poche.\n",
    "\n",
    "Et à la fin de la troisième verste, ça recommence avec un troisième ermite :\n",
    "- Michel Strogonoff, donne-moi trois roubles, ou tu t'en repentiras.\n",
    "- Tiens, mon pauvre ermite, je me réjouis de pouvoir soulager ta misère !\n",
    "Et Michel Strogonoff lui donna ses trois roubles, et reprit sa route, la bourse vide, à la fois surpris et content, car un rien l'étonnait et c'était un heureux caractère.\n",
    "\n",
    "Et ça continue comme ça, à la fin de la n-ième verste, un ermite lui demande n roubles. Si Michel Strogonoff les possède, il les lui donne, sinon c'est l'ermite qui lui donne n roubles.\n",
    "\n",
    "1) Soit $b_n$ est le contenu de la bourse de Mischel STROGONOFF après le n-ième verste et donc après avoir rencontrer le n-ième emites. Recopier (**) et compléter le tableau suivant :\n",
    "\n",
    "|   n   | 0 | 1 | 2 | 3 | 4 | 5 | 6 | 7 | 8 | 9 | 10 |\n",
    "|-------|---|---|---|---|---|---|---|---|---|---|----|\n",
    "| bn | 0 | 1 | 3 |   |   |   |   |   |   |   |    |\n",
    "\n",
    "\n",
    "`(*)` La verste est une unité de longueur utilisée dans la Russie des Tsars, équivalant à un peu plus d'un kilomètre.\n",
    "\n",
    "`(**)` On peut faire un Copier/Coller.\n"
   ]
  },
  {
   "cell_type": "raw",
   "id": "modular-equivalent",
   "metadata": {},
   "source": []
  },
  {
   "cell_type": "markdown",
   "id": "brutal-camcorder",
   "metadata": {},
   "source": [
    "2) Quelle est la baleur de $b_{11}$  ?"
   ]
  },
  {
   "cell_type": "raw",
   "id": "excess-expansion",
   "metadata": {},
   "source": []
  },
  {
   "cell_type": "markdown",
   "id": "burning-satellite",
   "metadata": {},
   "source": [
    "3) Donner, si possible, la valeur de $b_{2008}$. (Justifier)"
   ]
  },
  {
   "cell_type": "raw",
   "id": "convinced-freight",
   "metadata": {},
   "source": []
  },
  {
   "cell_type": "markdown",
   "id": "suitable-wyoming",
   "metadata": {},
   "source": [
    "4) Voici l'algorithme de la fonction **`BourseMS(n)`** qui donne l'état de la bourse de Michel STROGONOFF après avoir parcouru n verstes et quitté le n-ième ermite. \n",
    "\n",
    "Pour simplifier  on désigne par b \"le contenu de la bourse de Michel STROGONOFF\" et s \"la somme réclamée par l'ermite du verste numéro s\"\n",
    "\n",
    ">**fonction** BourseMS(n)\n",
    ">>b $\\leftarrow$ 0\n",
    ">>\n",
    ">>s $\\leftarrow$  1\n",
    ">>\n",
    ">>**Tant que** s $\\leqslant$ n **faire**\n",
    ">>>**si** b < s **alors** b $\\leftarrow b + s $\n",
    ">>>\n",
    ">>>**sinon**  b $\\leftarrow b - s$\n",
    ">>>\n",
    ">>>s$\\leftarrow$ s+1\n",
    ">>\n",
    ">>**retourner** b\n",
    "\n",
    "En vous aidant de cet algorithme, comlépter la fonction ci-dessous. (faire des tests avec les valeurs du tableau)"
   ]
  },
  {
   "cell_type": "code",
   "execution_count": null,
   "id": "chemical-costa",
   "metadata": {},
   "outputs": [],
   "source": [
    "def BourseMS(n):\n",
    "    b = ....\n",
    "    s = ....\n",
    "    while .... :\n",
    "        if .... :\n",
    "            b = ....\n",
    "        else :\n",
    "            b = ....\n",
    "        s = ....\n",
    "    return(b)\n"
   ]
  },
  {
   "cell_type": "code",
   "execution_count": null,
   "id": "caring-mineral",
   "metadata": {},
   "outputs": [],
   "source": [
    "BourseMS(3)"
   ]
  },
  {
   "cell_type": "markdown",
   "id": "dramatic-bridges",
   "metadata": {},
   "source": [
    "5) Quel est alors le contenu de la bourse de Michel Strogonoff après avoir parcouru 2008 verstes et quitté le $2008^{ème}$ ermite."
   ]
  },
  {
   "cell_type": "raw",
   "id": "unlikely-rescue",
   "metadata": {},
   "source": []
  },
  {
   "cell_type": "markdown",
   "id": "soviet-booking",
   "metadata": {},
   "source": [
    "6) On shouhaite consigner les contenus de la bourse pour toutes les étapes inférieures ou égales à une certaine valeur $n$ dans une liste nommée **L**. \n",
    "\n",
    "**Exemple :** `L = [0, 1, 3, 0, 4, 9, 3, 10, 2, 11, 1]` est la liste des différentes sommes contenues dans la bourse depuis le départ et jusqu'après avoir quiter le $10^{ème}$ ermite.\n",
    "\n",
    "**Rappels :**\n",
    "\n",
    "- Une  liste  est un tableau ne contenant qu'une seule ligne et dont les éléments sont numérotés à partir de 0.\n",
    "- L'élément numéro i d'une liste L est `L[i]`, on a donc `L|0]=0`,  `L[1]=1`,  `L[2]=3`  etc.\n",
    "- l'instruction `L.append(k)` ajoute la valeur k à la fin de la liste L.\n",
    "\n",
    "  **exemple** `L.append(12)` donne `L = [0, 1, 3, 0, 4, 9, 3, 10, 2, 11, 1, 12]`\n",
    "  \n",
    "\n",
    "Compléter la fonction  `ListeBourseMS(n)` ci-dessous et tester avec $n=10$\n",
    "\n",
    "Le résultat devrait être `[0, 1, 3, 0, 4, 9, 3, 10, 2, 11, 1]`\n"
   ]
  },
  {
   "cell_type": "code",
   "execution_count": null,
   "id": "reliable-imperial",
   "metadata": {},
   "outputs": [],
   "source": [
    "def ListeBourseMS(n):\n",
    "    L = [0]  # Commentaire : 0 est le contenu de la bourse au départ\n",
    "    s = 1    # 1 est le somme réclamée par le 1er ermite\n",
    "    while s<=n:\n",
    "        if .... < s:\n",
    "            L.append(.....)\n",
    "        else:\n",
    "            ......\n",
    "        s = ....\n",
    "    return(L)"
   ]
  },
  {
   "cell_type": "code",
   "execution_count": null,
   "id": "returning-voluntary",
   "metadata": {},
   "outputs": [],
   "source": [
    "ListeBourseMS(10)"
   ]
  },
  {
   "cell_type": "markdown",
   "id": "smaller-mention",
   "metadata": {},
   "source": [
    "7) Donner une expresion algébrique définissant la suite $(b_n)$. On uilisera la notation suivante :\n",
    "- b(n) pour $b_n$\n",
    "- `<=` pour $\\leqslant$\n",
    "- `>=` pour $\\geqslant$\n"
   ]
  },
  {
   "cell_type": "raw",
   "id": "considered-wallace",
   "metadata": {},
   "source": []
  },
  {
   "cell_type": "markdown",
   "id": "italic-rider",
   "metadata": {},
   "source": [
    "8) Le module `matplotlib.pyplot` contient toute les fonctions permetant de tracer des représentations graphiques  et de placer des points dans un repère ortogonal. \n",
    "\n",
    "Voici quelques focntions :\n",
    "\n",
    "- `plot(x,y,'+',color='red')` place le point de coordonnées $(x;y)$ et le marque avec le symbole **`+`** de couleur rouge.\n",
    "- `grid()` afficher la grille du repère.\n",
    "- `show()` oblgatoire pour afficher le graphique obtenu\n",
    "\n",
    "Compléter le script ci-dessous "
   ]
  },
  {
   "cell_type": "code",
   "execution_count": null,
   "id": "synthetic-spyware",
   "metadata": {},
   "outputs": [],
   "source": [
    "from matplotlib.pyplot import *\n",
    "\n",
    "n = 10              # le nombre de verstes parcourus\n",
    "L = ........     # La liste des sommes contenues dans la bourse pour toutes les étapes inférieures ou égales à n \n",
    "for i in range(n+1):   # ce qui signifie 'pour toute les valeurs de i allant de 0 à n compris'\n",
    "    plot( ... , ... , ... , ... )\n",
    "...\n",
    "..."
   ]
  },
  {
   "cell_type": "markdown",
   "id": "enabling-marking",
   "metadata": {},
   "source": [
    "Que peut-on dire de la représentation graphique d'une suite $(u_n)$ ?"
   ]
  },
  {
   "cell_type": "raw",
   "id": "conservative-kentucky",
   "metadata": {},
   "source": []
  }
 ],
 "metadata": {
  "kernelspec": {
   "display_name": "Python 3",
   "language": "python",
   "name": "python3"
  },
  "language_info": {
   "codemirror_mode": {
    "name": "ipython",
    "version": 3
   },
   "file_extension": ".py",
   "mimetype": "text/x-python",
   "name": "python",
   "nbconvert_exporter": "python",
   "pygments_lexer": "ipython3",
   "version": "3.7.9"
  }
 },
 "nbformat": 4,
 "nbformat_minor": 5
}
